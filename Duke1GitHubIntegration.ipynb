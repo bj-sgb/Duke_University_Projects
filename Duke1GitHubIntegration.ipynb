{
  "nbformat": 4,
  "nbformat_minor": 0,
  "metadata": {
    "colab": {
      "provenance": [],
      "authorship_tag": "ABX9TyMUrhSqAUP5xQAKJcgp1h2R",
      "include_colab_link": true
    },
    "kernelspec": {
      "name": "python3",
      "display_name": "Python 3"
    },
    "language_info": {
      "name": "python"
    }
  },
  "cells": [
    {
      "cell_type": "markdown",
      "metadata": {
        "id": "view-in-github",
        "colab_type": "text"
      },
      "source": [
        "<a href=\"https://colab.research.google.com/github/bjcloudac/Duke_University_Projects/blob/cola_sync/Duke1GitHubIntegration.ipynb\" target=\"_parent\"><img src=\"https://colab.research.google.com/assets/colab-badge.svg\" alt=\"Open In Colab\"/></a>"
      ]
    },
    {
      "cell_type": "markdown",
      "source": [
        "Duke_University_Projects\n"
      ],
      "metadata": {
        "id": "rcca0fmQ3d7G"
      }
    },
    {
      "cell_type": "markdown",
      "source": [
        "### Ingest\n"
      ],
      "metadata": {
        "id": "WwvTFntS61Rm"
      }
    },
    {
      "cell_type": "code",
      "source": [
        "def welcome():\n",
        "  print(\"Welcome to my project@Duke\")\n",
        "  return\n",
        "welcome()"
      ],
      "metadata": {
        "colab": {
          "base_uri": "https://localhost:8080/"
        },
        "id": "Y24QmoFr3niF",
        "outputId": "9c064656-3b0a-4b31-a086-585b882959fd"
      },
      "execution_count": 1,
      "outputs": [
        {
          "output_type": "stream",
          "name": "stdout",
          "text": [
            "Welcome to my project@Duke\n"
          ]
        }
      ]
    },
    {
      "cell_type": "markdown",
      "source": [
        "###EDA\n"
      ],
      "metadata": {
        "id": "2jTDwC0O69yX"
      }
    },
    {
      "cell_type": "markdown",
      "source": [],
      "metadata": {
        "id": "WgfYmLJW71I9"
      }
    },
    {
      "cell_type": "code",
      "source": [],
      "metadata": {
        "id": "f5HJEvFJ7dwd"
      },
      "execution_count": null,
      "outputs": []
    },
    {
      "cell_type": "markdown",
      "source": [
        "## Modeling"
      ],
      "metadata": {
        "id": "2dOw34hD7usa"
      }
    },
    {
      "cell_type": "code",
      "source": [],
      "metadata": {
        "id": "MtuQNUe773MF"
      },
      "execution_count": null,
      "outputs": []
    },
    {
      "cell_type": "markdown",
      "source": [
        "## Conclusion"
      ],
      "metadata": {
        "id": "reJXd8wL7xJq"
      }
    },
    {
      "cell_type": "code",
      "source": [],
      "metadata": {
        "id": "YaFvhsd475ur"
      },
      "execution_count": null,
      "outputs": []
    }
  ]
}